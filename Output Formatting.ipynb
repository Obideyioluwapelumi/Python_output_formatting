{
 "cells": [
  {
   "cell_type": "code",
   "execution_count": 10,
   "id": "0c7d32b3",
   "metadata": {},
   "outputs": [
    {
     "name": "stdout",
     "output_type": "stream",
     "text": [
      "Output Formatting\n",
      "\n",
      "The value of a is 10 and b is 20\n"
     ]
    }
   ],
   "source": [
    "# Output Formatting\n",
    "a = 10; b = 20 # mlultiple statements in a single line\n",
    "print ('Output Formatting\\n')\n",
    "print('The value of a is {} and b is {}'.format(a, b))     #default"
   ]
  },
  {
   "cell_type": "code",
   "execution_count": 2,
   "id": "93d22b96",
   "metadata": {},
   "outputs": [
    {
     "name": "stdout",
     "output_type": "stream",
     "text": [
      "The value of b is 20 and a is 10\n"
     ]
    }
   ],
   "source": [
    "a = 10; b = 20\n",
    "print('The value of b is {1} and a is {0}'.format(a, b))    # Specify position of the "
   ]
  },
  {
   "cell_type": "code",
   "execution_count": 5,
   "id": "ba1c5007",
   "metadata": {},
   "outputs": [
    {
     "name": "stdout",
     "output_type": "stream",
     "text": [
      "Hello satish, Good Morning\n"
     ]
    }
   ],
   "source": [
    "# We can also use keyboard arguments to format the string\n",
    "\n",
    "print('Hello {name}, {greeting}'.format(name='satish', greeting='Good Morning'))"
   ]
  },
  {
   "cell_type": "code",
   "execution_count": 6,
   "id": "8fe00245",
   "metadata": {},
   "outputs": [
    {
     "name": "stdout",
     "output_type": "stream",
     "text": [
      "The boy's name is Kelvin, and he hails from New York\n"
     ]
    }
   ],
   "source": [
    "print ('The boy\\'s name is {name}, and he hails from {city}'.format(name='Kelvin', city='New York'))"
   ]
  },
  {
   "cell_type": "code",
   "execution_count": 11,
   "id": "4b75eb35",
   "metadata": {},
   "outputs": [
    {
     "name": "stdout",
     "output_type": "stream",
     "text": [
      "The boy's name is Kelvin, and he hails from New York\n"
     ]
    }
   ],
   "source": [
    "print ('The boy\\'s name is {0}, and he hails from {1}'.format('Kelvin', 'New York'))"
   ]
  },
  {
   "cell_type": "code",
   "execution_count": 9,
   "id": "03f54e18",
   "metadata": {},
   "outputs": [
    {
     "name": "stdout",
     "output_type": "stream",
     "text": [
      "The boy's name is Kelvin, and he hails from New York.\n",
      "He got his first job Kenturky and he met a new lady called Evelyn\n"
     ]
    }
   ],
   "source": [
    "print ('The boy\\'s name is {name}, and he hails from {city}.\\nHe got his first job {new_city} and he met a new lady called {new_name}'.format(name='Kelvin', city='New York', new_city='Kenturky', new_name='Evelyn'))"
   ]
  },
  {
   "cell_type": "code",
   "execution_count": null,
   "id": "319e7316",
   "metadata": {},
   "outputs": [],
   "source": [
    "# Python Input\n",
    "num = input('Enter a number:')\n",
    "print (num)"
   ]
  },
  {
   "cell_type": "code",
   "execution_count": null,
   "id": "09c44f72",
   "metadata": {},
   "outputs": [],
   "source": []
  }
 ],
 "metadata": {
  "kernelspec": {
   "display_name": "Python 3 (ipykernel)",
   "language": "python",
   "name": "python3"
  },
  "language_info": {
   "codemirror_mode": {
    "name": "ipython",
    "version": 3
   },
   "file_extension": ".py",
   "mimetype": "text/x-python",
   "name": "python",
   "nbconvert_exporter": "python",
   "pygments_lexer": "ipython3",
   "version": "3.9.13"
  }
 },
 "nbformat": 4,
 "nbformat_minor": 5
}
